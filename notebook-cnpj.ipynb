{
 "cells": [
  {
   "cell_type": "code",
   "execution_count": 1,
   "id": "a055a827-247d-4354-aa70-6f3e43ec9fe8",
   "metadata": {
    "execution": {
     "iopub.execute_input": "2023-03-09T15:47:12.008096Z",
     "iopub.status.busy": "2023-03-09T15:47:12.007373Z",
     "iopub.status.idle": "2023-03-09T15:47:55.233635Z",
     "shell.execute_reply": "2023-03-09T15:47:55.232260Z",
     "shell.execute_reply.started": "2023-03-09T15:47:12.008045Z"
    }
   },
   "outputs": [
    {
     "data": {
      "application/vnd.jupyter.widget-view+json": {
       "model_id": "27f70c75c3314192baf7cf50dccc8f91",
       "version_major": 2,
       "version_minor": 0
      },
      "text/plain": [
       "VBox()"
      ]
     },
     "metadata": {},
     "output_type": "display_data"
    },
    {
     "name": "stdout",
     "output_type": "stream",
     "text": [
      "Starting Spark application\n"
     ]
    },
    {
     "data": {
      "text/html": [
       "<table>\n",
       "<tr><th>ID</th><th>YARN Application ID</th><th>Kind</th><th>State</th><th>Spark UI</th><th>Driver log</th><th>Current session?</th></tr><tr><td>0</td><td>application_1678376427360_0001</td><td>pyspark</td><td>idle</td><td><a target=\"_blank\" href=\"http://ip-172-31-9-100.sa-east-1.compute.internal:20888/proxy/application_1678376427360_0001/\">Link</a></td><td><a target=\"_blank\" href=\"http://ip-172-31-13-1.sa-east-1.compute.internal:8042/node/containerlogs/container_1678376427360_0001_01_000001/livy\">Link</a></td><td>✔</td></tr></table>"
      ],
      "text/plain": [
       "<IPython.core.display.HTML object>"
      ]
     },
     "metadata": {},
     "output_type": "display_data"
    },
    {
     "data": {
      "application/vnd.jupyter.widget-view+json": {
       "model_id": "",
       "version_major": 2,
       "version_minor": 0
      },
      "text/plain": [
       "FloatProgress(value=0.0, bar_style='info', description='Progress:', layout=Layout(height='25px', width='50%'),…"
      ]
     },
     "metadata": {},
     "output_type": "display_data"
    },
    {
     "name": "stdout",
     "output_type": "stream",
     "text": [
      "SparkSession available as 'spark'.\n"
     ]
    },
    {
     "data": {
      "application/vnd.jupyter.widget-view+json": {
       "model_id": "",
       "version_major": 2,
       "version_minor": 0
      },
      "text/plain": [
       "FloatProgress(value=0.0, bar_style='info', description='Progress:', layout=Layout(height='25px', width='50%'),…"
      ]
     },
     "metadata": {},
     "output_type": "display_data"
    }
   ],
   "source": [
    "from pyspark.sql import functions as f"
   ]
  },
  {
   "cell_type": "code",
   "execution_count": 3,
   "id": "5c8d430d-8270-4bfc-b00b-4a05a0a48693",
   "metadata": {
    "execution": {
     "iopub.execute_input": "2023-03-09T15:48:02.763080Z",
     "iopub.status.busy": "2023-03-09T15:48:02.762769Z",
     "iopub.status.idle": "2023-03-09T15:48:03.064520Z",
     "shell.execute_reply": "2023-03-09T15:48:03.063052Z",
     "shell.execute_reply.started": "2023-03-09T15:48:02.763054Z"
    },
    "tags": []
   },
   "outputs": [
    {
     "data": {
      "application/vnd.jupyter.widget-view+json": {
       "model_id": "99b3472ea71b4021a0f7d399fcaa8139",
       "version_major": 2,
       "version_minor": 0
      },
      "text/plain": [
       "VBox()"
      ]
     },
     "metadata": {},
     "output_type": "display_data"
    },
    {
     "data": {
      "application/vnd.jupyter.widget-view+json": {
       "model_id": "",
       "version_major": 2,
       "version_minor": 0
      },
      "text/plain": [
       "FloatProgress(value=0.0, bar_style='info', description='Progress:', layout=Layout(height='25px', width='50%'),…"
      ]
     },
     "metadata": {},
     "output_type": "display_data"
    },
    {
     "name": "stdout",
     "output_type": "stream",
     "text": [
      "<pyspark.sql.session.SparkSession object at 0x7fc8366f73d0>"
     ]
    }
   ],
   "source": [
    "spark"
   ]
  },
  {
   "cell_type": "code",
   "execution_count": 92,
   "id": "52c0b499-eed5-46df-9e81-7e88a59e42ee",
   "metadata": {
    "execution": {
     "iopub.execute_input": "2023-03-09T19:09:18.553610Z",
     "iopub.status.busy": "2023-03-09T19:09:18.553297Z",
     "iopub.status.idle": "2023-03-09T19:11:29.814666Z",
     "shell.execute_reply": "2023-03-09T19:11:29.813578Z",
     "shell.execute_reply.started": "2023-03-09T19:09:18.553583Z"
    },
    "tags": []
   },
   "outputs": [
    {
     "data": {
      "application/vnd.jupyter.widget-view+json": {
       "model_id": "388083f0a61641248b3bc73d31e6c3ef",
       "version_major": 2,
       "version_minor": 0
      },
      "text/plain": [
       "VBox()"
      ]
     },
     "metadata": {},
     "output_type": "display_data"
    },
    {
     "data": {
      "application/vnd.jupyter.widget-view+json": {
       "model_id": "",
       "version_major": 2,
       "version_minor": 0
      },
      "text/plain": [
       "FloatProgress(value=0.0, bar_style='info', description='Progress:', layout=Layout(height='25px', width='50%'),…"
      ]
     },
     "metadata": {},
     "output_type": "display_data"
    }
   ],
   "source": [
    "cnpj = (\n",
    "    spark\n",
    "    .read\n",
    "    .csv(\"s3://bucket-comercial-marcelo-cnpj/Estabelecimentos/\", \n",
    "        header=False, sep=\";\", inferSchema = True, encoding=\"latin1\")\n",
    ")\n",
    "# cnpj.printSchema()"
   ]
  },
  {
   "cell_type": "code",
   "execution_count": 93,
   "id": "9fcba69d-5c17-436c-8ffc-46adf267b055",
   "metadata": {
    "execution": {
     "iopub.execute_input": "2023-03-09T19:11:33.459664Z",
     "iopub.status.busy": "2023-03-09T19:11:33.458975Z",
     "iopub.status.idle": "2023-03-09T19:11:33.615950Z",
     "shell.execute_reply": "2023-03-09T19:11:33.614657Z",
     "shell.execute_reply.started": "2023-03-09T19:11:33.459625Z"
    },
    "tags": []
   },
   "outputs": [
    {
     "data": {
      "application/vnd.jupyter.widget-view+json": {
       "model_id": "5c63743487b14d6ea401ed05f3a45aad",
       "version_major": 2,
       "version_minor": 0
      },
      "text/plain": [
       "VBox()"
      ]
     },
     "metadata": {},
     "output_type": "display_data"
    },
    {
     "data": {
      "application/vnd.jupyter.widget-view+json": {
       "model_id": "",
       "version_major": 2,
       "version_minor": 0
      },
      "text/plain": [
       "FloatProgress(value=0.0, bar_style='info', description='Progress:', layout=Layout(height='25px', width='50%'),…"
      ]
     },
     "metadata": {},
     "output_type": "display_data"
    }
   ],
   "source": [
    "from pyspark.sql.functions import col, concat, format_string\n",
    "from pyspark.sql.types import StringType,BooleanType,DateType"
   ]
  },
  {
   "cell_type": "code",
   "execution_count": null,
   "id": "0797901c-ec53-47b8-91c0-2997896a019e",
   "metadata": {
    "tags": []
   },
   "outputs": [],
   "source": [
    "# cnpj = (\n",
    "#     cnpj\n",
    "#     .withColumn('_c0',col('_c0').cast(StringType()))\n",
    "#     .withColumn('_c1',col('_c1').cast(StringType()))\n",
    "#     .withColumn('_c2',col('_c2').cast(StringType()))\n",
    "#     .withColumn('_c3',col('_c3').cast(StringType()))\n",
    "#     .withColumn('_c6',col('_c6').cast(StringType()))\n",
    "#     .withColumn('_c7',col('_c7').cast(StringType()))\n",
    "#     .withColumn('_c9',col('_c9').cast(StringType()))\n",
    "#     .withColumn('_c10',col('_c10').cast(StringType()))\n",
    "# )\n",
    "# cnpj.printSchema()"
   ]
  },
  {
   "cell_type": "code",
   "execution_count": 98,
   "id": "d53a3730-3878-4657-8ed7-f42835d01d89",
   "metadata": {
    "execution": {
     "iopub.execute_input": "2023-03-09T19:15:01.738763Z",
     "iopub.status.busy": "2023-03-09T19:15:01.738285Z",
     "iopub.status.idle": "2023-03-09T19:15:11.525949Z",
     "shell.execute_reply": "2023-03-09T19:15:11.525234Z",
     "shell.execute_reply.started": "2023-03-09T19:15:01.738708Z"
    },
    "tags": []
   },
   "outputs": [
    {
     "data": {
      "application/vnd.jupyter.widget-view+json": {
       "model_id": "27a3ff12ad08424c966cb00f8044d10d",
       "version_major": 2,
       "version_minor": 0
      },
      "text/plain": [
       "VBox()"
      ]
     },
     "metadata": {},
     "output_type": "display_data"
    },
    {
     "data": {
      "application/vnd.jupyter.widget-view+json": {
       "model_id": "",
       "version_major": 2,
       "version_minor": 0
      },
      "text/plain": [
       "FloatProgress(value=0.0, bar_style='info', description='Progress:', layout=Layout(height='25px', width='50%'),…"
      ]
     },
     "metadata": {},
     "output_type": "display_data"
    },
    {
     "name": "stdout",
     "output_type": "stream",
     "text": [
      "+--------+----+\n",
      "|    _c00|_c01|\n",
      "+--------+----+\n",
      "|32670474|0001|\n",
      "|32670487|0001|\n",
      "|32670495|0001|\n",
      "|32670511|0001|\n",
      "|32670522|0001|\n",
      "|32670532|0001|\n",
      "|32670542|0001|\n",
      "|32670554|0001|\n",
      "|32670565|0001|\n",
      "|32670576|0001|\n",
      "+--------+----+\n",
      "only showing top 10 rows"
     ]
    }
   ],
   "source": [
    "cnpj2 = (\n",
    "    cnpj\n",
    "    .withColumn('_c00',format_string(\"%08d\",\"_c0\"))\n",
    "    .withColumn('_c01',format_string(\"%04d\",\"_c1\"))\n",
    "    .withColumn('_c02',format_string(\"%02d\",\"_c2\"))\n",
    "    .withColumn('_c05',format_string(\"%02d\",\"_c5\"))\n",
    "    .withColumn('_c06',format_string(\"%03d\",\"_c6\"))\n",
    "    .withColumn('_c07',format_string(\"%02d\",\"_c7\"))\n",
    "    \n",
    ")\n",
    "cnpj2.select('_c00', '_c01').show(n=10)"
   ]
  },
  {
   "cell_type": "code",
   "execution_count": null,
   "id": "3aa5a38a-c68f-4bfe-bbe1-82ee1d24c319",
   "metadata": {
    "tags": []
   },
   "outputs": [],
   "source": [
    "# cnpj = (\n",
    "#     cnpj\n",
    "#     .withColumn('_c0',cnpj._c0.cast('string'))\n",
    "#     .withColumn('_c1',cnpj._c1.cast('string'))\n",
    "#     .withColumn('_c2',cnpj._c2.cast('string'))\n",
    "#     .withColumn('_c3',cnpj._c3.cast('string'))\n",
    "    \n",
    "# )\n",
    "# cnpj.printSchema()"
   ]
  },
  {
   "cell_type": "code",
   "execution_count": 102,
   "id": "844bc414-5f83-4fcb-b1ee-38a84340aca2",
   "metadata": {
    "execution": {
     "iopub.execute_input": "2023-03-09T19:15:52.215245Z",
     "iopub.status.busy": "2023-03-09T19:15:52.214936Z",
     "iopub.status.idle": "2023-03-09T19:15:52.617609Z",
     "shell.execute_reply": "2023-03-09T19:15:52.616969Z",
     "shell.execute_reply.started": "2023-03-09T19:15:52.215219Z"
    },
    "tags": []
   },
   "outputs": [
    {
     "data": {
      "application/vnd.jupyter.widget-view+json": {
       "model_id": "ef08ce7677544a679d3e17b18b82d99c",
       "version_major": 2,
       "version_minor": 0
      },
      "text/plain": [
       "VBox()"
      ]
     },
     "metadata": {},
     "output_type": "display_data"
    },
    {
     "data": {
      "application/vnd.jupyter.widget-view+json": {
       "model_id": "",
       "version_major": 2,
       "version_minor": 0
      },
      "text/plain": [
       "FloatProgress(value=0.0, bar_style='info', description='Progress:', layout=Layout(height='25px', width='50%'),…"
      ]
     },
     "metadata": {},
     "output_type": "display_data"
    },
    {
     "name": "stdout",
     "output_type": "stream",
     "text": [
      "+----+\n",
      "|_c20|\n",
      "+----+\n",
      "|5815|\n",
      "|6607|\n",
      "|2253|\n",
      "|8705|\n",
      "|6969|\n",
      "|8511|\n",
      "|3393|\n",
      "|5625|\n",
      "|6291|\n",
      "|8985|\n",
      "+----+\n",
      "only showing top 10 rows"
     ]
    }
   ],
   "source": [
    "cnpj2.select('_c20').show(n=10)"
   ]
  },
  {
   "cell_type": "code",
   "execution_count": null,
   "id": "1164577b-dc9c-4008-97df-9b3052939f4d",
   "metadata": {
    "tags": []
   },
   "outputs": [],
   "source": [
    "cnpj.select(concat(cnpj._c00,cnpj._c01,cnpj._c02).alias(\"CNPJ\")).show(n=5)"
   ]
  },
  {
   "cell_type": "code",
   "execution_count": 87,
   "id": "671b93eb-016f-45ec-8299-576405e316d0",
   "metadata": {
    "execution": {
     "iopub.execute_input": "2023-03-09T19:05:48.749504Z",
     "iopub.status.busy": "2023-03-09T19:05:48.749184Z",
     "iopub.status.idle": "2023-03-09T19:05:49.797293Z",
     "shell.execute_reply": "2023-03-09T19:05:49.796270Z",
     "shell.execute_reply.started": "2023-03-09T19:05:48.749477Z"
    },
    "tags": []
   },
   "outputs": [
    {
     "data": {
      "application/vnd.jupyter.widget-view+json": {
       "model_id": "eb364d2600424f31bbb7462ea323300a",
       "version_major": 2,
       "version_minor": 0
      },
      "text/plain": [
       "VBox()"
      ]
     },
     "metadata": {},
     "output_type": "display_data"
    },
    {
     "data": {
      "application/vnd.jupyter.widget-view+json": {
       "model_id": "",
       "version_major": 2,
       "version_minor": 0
      },
      "text/plain": [
       "FloatProgress(value=0.0, bar_style='info', description='Progress:', layout=Layout(height='25px', width='50%'),…"
      ]
     },
     "metadata": {},
     "output_type": "display_data"
    },
    {
     "name": "stdout",
     "output_type": "stream",
     "text": [
      "+--------------+--------+\n",
      "|          CNPJ|     _c0|\n",
      "+--------------+--------+\n",
      "|32670474000137|32670474|\n",
      "|32670487000106|32670487|\n",
      "|32670495000152|32670495|\n",
      "|32670511000107|32670511|\n",
      "|32670522000197|32670522|\n",
      "|32670532000122|32670532|\n",
      "|32670542000168|32670542|\n",
      "|32670554000192|32670554|\n",
      "|32670565000172|32670565|\n",
      "|32670576000152|32670576|\n",
      "+--------------+--------+\n",
      "only showing top 10 rows"
     ]
    }
   ],
   "source": [
    "cnpj = (\n",
    "    cnpj.withColumn('CNPJ',concat(cnpj._c00,cnpj._c01,cnpj._c02))\n",
    ")\n",
    "\n",
    "cnpj.select('CNPJ', '_c0').show(n=10)"
   ]
  },
  {
   "cell_type": "code",
   "execution_count": 89,
   "id": "32f3a432-5bfe-4be1-bde7-a40de3cb527e",
   "metadata": {
    "execution": {
     "iopub.execute_input": "2023-03-09T19:07:02.603342Z",
     "iopub.status.busy": "2023-03-09T19:07:02.602851Z",
     "iopub.status.idle": "2023-03-09T19:07:02.912488Z",
     "shell.execute_reply": "2023-03-09T19:07:02.908869Z",
     "shell.execute_reply.started": "2023-03-09T19:07:02.603308Z"
    },
    "tags": []
   },
   "outputs": [
    {
     "data": {
      "application/vnd.jupyter.widget-view+json": {
       "model_id": "46c47f18ccec4c579d9c7e72a46c5eb5",
       "version_major": 2,
       "version_minor": 0
      },
      "text/plain": [
       "VBox()"
      ]
     },
     "metadata": {},
     "output_type": "display_data"
    },
    {
     "data": {
      "application/vnd.jupyter.widget-view+json": {
       "model_id": "",
       "version_major": 2,
       "version_minor": 0
      },
      "text/plain": [
       "FloatProgress(value=0.0, bar_style='info', description='Progress:', layout=Layout(height='25px', width='50%'),…"
      ]
     },
     "metadata": {},
     "output_type": "display_data"
    },
    {
     "name": "stdout",
     "output_type": "stream",
     "text": [
      "97"
     ]
    }
   ],
   "source": [
    "cnpj.rdd.getNumPartitions()"
   ]
  },
  {
   "cell_type": "code",
   "execution_count": 90,
   "id": "9e3fcffd-b7ef-4a4d-98c1-2dc5a662a0fa",
   "metadata": {
    "execution": {
     "iopub.execute_input": "2023-03-09T19:07:05.000927Z",
     "iopub.status.busy": "2023-03-09T19:07:05.000250Z",
     "iopub.status.idle": "2023-03-09T19:07:57.358451Z",
     "shell.execute_reply": "2023-03-09T19:07:57.357155Z",
     "shell.execute_reply.started": "2023-03-09T19:07:05.000883Z"
    },
    "tags": []
   },
   "outputs": [
    {
     "data": {
      "application/vnd.jupyter.widget-view+json": {
       "model_id": "2b91324a563a4967ac2868ab43bed546",
       "version_major": 2,
       "version_minor": 0
      },
      "text/plain": [
       "VBox()"
      ]
     },
     "metadata": {},
     "output_type": "display_data"
    },
    {
     "data": {
      "application/vnd.jupyter.widget-view+json": {
       "model_id": "",
       "version_major": 2,
       "version_minor": 0
      },
      "text/plain": [
       "FloatProgress(value=0.0, bar_style='info', description='Progress:', layout=Layout(height='25px', width='50%'),…"
      ]
     },
     "metadata": {},
     "output_type": "display_data"
    },
    {
     "name": "stdout",
     "output_type": "stream",
     "text": [
      "55502948"
     ]
    }
   ],
   "source": [
    "cnpj.count()"
   ]
  },
  {
   "cell_type": "code",
   "execution_count": 104,
   "id": "416b2d01-d3a4-4b25-92f3-7734e05b3e18",
   "metadata": {
    "execution": {
     "iopub.execute_input": "2023-03-09T19:16:27.437730Z",
     "iopub.status.busy": "2023-03-09T19:16:27.437429Z",
     "iopub.status.idle": "2023-03-09T19:21:23.006463Z",
     "shell.execute_reply": "2023-03-09T19:21:23.003003Z",
     "shell.execute_reply.started": "2023-03-09T19:16:27.437706Z"
    },
    "tags": []
   },
   "outputs": [
    {
     "data": {
      "application/vnd.jupyter.widget-view+json": {
       "model_id": "a5babb8da67d4c8a96a93da4e702490f",
       "version_major": 2,
       "version_minor": 0
      },
      "text/plain": [
       "VBox()"
      ]
     },
     "metadata": {},
     "output_type": "display_data"
    },
    {
     "data": {
      "application/vnd.jupyter.widget-view+json": {
       "model_id": "",
       "version_major": 2,
       "version_minor": 0
      },
      "text/plain": [
       "FloatProgress(value=0.0, bar_style='info', description='Progress:', layout=Layout(height='25px', width='50%'),…"
      ]
     },
     "metadata": {},
     "output_type": "display_data"
    }
   ],
   "source": [
    "(\n",
    "    cnpj\n",
    "    .write\n",
    "    .format('parquet')\n",
    "    .save(\"s3://bucket-comercial-marcelo-cnpj/Estabelecimentos/parquet/\")\n",
    "\n",
    ")"
   ]
  },
  {
   "cell_type": "code",
   "execution_count": 105,
   "id": "e7b71a93-5a56-47dc-95f7-171c090ce066",
   "metadata": {
    "execution": {
     "iopub.execute_input": "2023-03-09T19:21:33.957859Z",
     "iopub.status.busy": "2023-03-09T19:21:33.957013Z",
     "iopub.status.idle": "2023-03-09T19:21:35.374399Z",
     "shell.execute_reply": "2023-03-09T19:21:35.373355Z",
     "shell.execute_reply.started": "2023-03-09T19:21:33.957817Z"
    },
    "tags": []
   },
   "outputs": [
    {
     "data": {
      "application/vnd.jupyter.widget-view+json": {
       "model_id": "53cccce2793b497cb962f3013d589d55",
       "version_major": 2,
       "version_minor": 0
      },
      "text/plain": [
       "VBox()"
      ]
     },
     "metadata": {},
     "output_type": "display_data"
    },
    {
     "data": {
      "application/vnd.jupyter.widget-view+json": {
       "model_id": "",
       "version_major": 2,
       "version_minor": 0
      },
      "text/plain": [
       "FloatProgress(value=0.0, bar_style='info', description='Progress:', layout=Layout(height='25px', width='50%'),…"
      ]
     },
     "metadata": {},
     "output_type": "display_data"
    }
   ],
   "source": [
    "cnpjparquet = (\n",
    "    spark\n",
    "    .read\n",
    "    .parquet(\"s3://bucket-comercial-marcelo-cnpj/Estabelecimentos/parquet/\")\n",
    ")\n",
    "# cnpjparquet.printSchema()"
   ]
  },
  {
   "cell_type": "code",
   "execution_count": 22,
   "id": "6eadf0eb-549a-4ea2-b932-b8b884c8c255",
   "metadata": {
    "execution": {
     "iopub.execute_input": "2023-03-09T16:19:50.890407Z",
     "iopub.status.busy": "2023-03-09T16:19:50.890004Z",
     "iopub.status.idle": "2023-03-09T16:19:53.909074Z",
     "shell.execute_reply": "2023-03-09T16:19:53.907976Z",
     "shell.execute_reply.started": "2023-03-09T16:19:50.890372Z"
    },
    "tags": []
   },
   "outputs": [
    {
     "data": {
      "application/vnd.jupyter.widget-view+json": {
       "model_id": "0e38090bee514209ba3653416f179233",
       "version_major": 2,
       "version_minor": 0
      },
      "text/plain": [
       "VBox()"
      ]
     },
     "metadata": {},
     "output_type": "display_data"
    },
    {
     "data": {
      "application/vnd.jupyter.widget-view+json": {
       "model_id": "",
       "version_major": 2,
       "version_minor": 0
      },
      "text/plain": [
       "FloatProgress(value=0.0, bar_style='info', description='Progress:', layout=Layout(height='25px', width='50%'),…"
      ]
     },
     "metadata": {},
     "output_type": "display_data"
    },
    {
     "name": "stdout",
     "output_type": "stream",
     "text": [
      "55502948"
     ]
    }
   ],
   "source": [
    "cnpjparquet.count()"
   ]
  },
  {
   "cell_type": "code",
   "execution_count": 106,
   "id": "afa1dff0-d86a-4c93-b27e-1db9c05b0014",
   "metadata": {
    "execution": {
     "iopub.execute_input": "2023-03-09T19:21:44.832534Z",
     "iopub.status.busy": "2023-03-09T19:21:44.832222Z",
     "iopub.status.idle": "2023-03-09T19:21:45.047090Z",
     "shell.execute_reply": "2023-03-09T19:21:45.045877Z",
     "shell.execute_reply.started": "2023-03-09T19:21:44.832507Z"
    },
    "tags": []
   },
   "outputs": [
    {
     "data": {
      "application/vnd.jupyter.widget-view+json": {
       "model_id": "32dce4b860714c0e9458d138dddd668b",
       "version_major": 2,
       "version_minor": 0
      },
      "text/plain": [
       "VBox()"
      ]
     },
     "metadata": {},
     "output_type": "display_data"
    },
    {
     "data": {
      "application/vnd.jupyter.widget-view+json": {
       "model_id": "",
       "version_major": 2,
       "version_minor": 0
      },
      "text/plain": [
       "FloatProgress(value=0.0, bar_style='info', description='Progress:', layout=Layout(height='25px', width='50%'),…"
      ]
     },
     "metadata": {},
     "output_type": "display_data"
    }
   ],
   "source": [
    "cnpjparquet = (\n",
    "    cnpjparquet\n",
    "    .withColumn('_c00',format_string(\"%08d\",\"_c0\"))\n",
    "    .withColumn('_c01',format_string(\"%04d\",\"_c1\"))\n",
    "    .withColumn('_c02',format_string(\"%02d\",\"_c2\"))\n",
    "    .withColumn('_c05',format_string(\"%02d\",\"_c5\"))\n",
    "    .withColumn('_c06',format_string(\"%03d\",\"_c6\"))\n",
    "    .withColumn('_c07',format_string(\"%02d\",\"_c7\"))\n",
    "    \n",
    ")\n",
    "\n",
    "# cnpjparquet.printSchema()"
   ]
  },
  {
   "cell_type": "code",
   "execution_count": 110,
   "id": "07e0bed5-0956-438c-b53d-19f1590058ea",
   "metadata": {
    "execution": {
     "iopub.execute_input": "2023-03-09T19:23:27.338253Z",
     "iopub.status.busy": "2023-03-09T19:23:27.337926Z",
     "iopub.status.idle": "2023-03-09T19:23:27.588835Z",
     "shell.execute_reply": "2023-03-09T19:23:27.540510Z",
     "shell.execute_reply.started": "2023-03-09T19:23:27.338227Z"
    },
    "tags": []
   },
   "outputs": [
    {
     "data": {
      "application/vnd.jupyter.widget-view+json": {
       "model_id": "1b3e607485724c4683a05a4563c0db66",
       "version_major": 2,
       "version_minor": 0
      },
      "text/plain": [
       "VBox()"
      ]
     },
     "metadata": {},
     "output_type": "display_data"
    },
    {
     "data": {
      "application/vnd.jupyter.widget-view+json": {
       "model_id": "",
       "version_major": 2,
       "version_minor": 0
      },
      "text/plain": [
       "FloatProgress(value=0.0, bar_style='info', description='Progress:', layout=Layout(height='25px', width='50%'),…"
      ]
     },
     "metadata": {},
     "output_type": "display_data"
    }
   ],
   "source": [
    "cnpjparquet = (\n",
    "    cnpjparquet.withColumn('CNPJ',concat(cnpjparquet._c00,cnpjparquet._c01,cnpjparquet._c02))\n",
    ")"
   ]
  },
  {
   "cell_type": "code",
   "execution_count": null,
   "id": "263c972d-3008-48a0-bbb2-6ebad85fae9a",
   "metadata": {
    "tags": []
   },
   "outputs": [],
   "source": [
    "(\n",
    "    cnpjparquet\n",
    "        .select(\"CNPJ\", \"_c4\", \"_c18\")\n",
    "        .where(\"_c18 = 39470000\")\n",
    "        .show(n=9999999)\n",
    ")"
   ]
  },
  {
   "cell_type": "code",
   "execution_count": null,
   "id": "99963524-52dc-451f-833d-fa8b2dcda7ac",
   "metadata": {
    "tags": []
   },
   "outputs": [],
   "source": [
    "(\n",
    "    cnpjparquet\n",
    "        .select(\"CNPJ\", \"_c4\", \"_c18\")\n",
    "        .where(\"_c18 = 39480000\")\n",
    "        .show(n=9999999)\n",
    ")"
   ]
  },
  {
   "cell_type": "code",
   "execution_count": 142,
   "id": "eb7db419-9c25-4eea-92e4-7a75c6c119f0",
   "metadata": {
    "execution": {
     "iopub.execute_input": "2023-03-09T19:59:06.862065Z",
     "iopub.status.busy": "2023-03-09T19:59:06.861740Z",
     "iopub.status.idle": "2023-03-09T19:59:07.110988Z",
     "shell.execute_reply": "2023-03-09T19:59:07.109767Z",
     "shell.execute_reply.started": "2023-03-09T19:59:06.862040Z"
    },
    "tags": []
   },
   "outputs": [
    {
     "data": {
      "application/vnd.jupyter.widget-view+json": {
       "model_id": "fba2e920e1144ed2bc7163f2afddb4ff",
       "version_major": 2,
       "version_minor": 0
      },
      "text/plain": [
       "VBox()"
      ]
     },
     "metadata": {},
     "output_type": "display_data"
    },
    {
     "data": {
      "application/vnd.jupyter.widget-view+json": {
       "model_id": "",
       "version_major": 2,
       "version_minor": 0
      },
      "text/plain": [
       "FloatProgress(value=0.0, bar_style='info', description='Progress:', layout=Layout(height='25px', width='50%'),…"
      ]
     },
     "metadata": {},
     "output_type": "display_data"
    }
   ],
   "source": [
    "dataframe = (\n",
    "    cnpjparquet\n",
    "        .select(\"CNPJ\", \"_c4\", \"_c18\")\n",
    "        .where(\"_c18 = 39480000\")\n",
    ")\n"
   ]
  },
  {
   "cell_type": "code",
   "execution_count": null,
   "id": "2fe148c4-ac70-4543-8622-d6b7e0857247",
   "metadata": {},
   "outputs": [],
   "source": [
    "dataframe.write.csv(\"/dataframe.csv\", mode=\"overwrite\")"
   ]
  }
 ],
 "metadata": {
  "kernelspec": {
   "display_name": "PySpark",
   "language": "",
   "name": "pysparkkernel"
  },
  "language_info": {
   "codemirror_mode": {
    "name": "python",
    "version": 2
   },
   "mimetype": "text/x-python",
   "name": "pyspark",
   "pygments_lexer": "python2"
  }
 },
 "nbformat": 4,
 "nbformat_minor": 5
}
